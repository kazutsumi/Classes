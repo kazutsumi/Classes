{
 "cells": [
  {
   "cell_type": "code",
   "execution_count": 1,
   "metadata": {
    "collapsed": true
   },
   "outputs": [],
   "source": [
    "def f(x):\n",
    "    return x*x"
   ]
  },
  {
   "cell_type": "code",
   "execution_count": 2,
   "metadata": {
    "collapsed": false,
    "scrolled": false
   },
   "outputs": [
    {
     "name": "stdout",
     "output_type": "stream",
     "text": [
      "1 : [5, 5.5]\n",
      "2 : [5, 5.25]\n",
      "3 : [5, 5.125]\n",
      "4 : [5.0625, 5.125]\n",
      "5 : [5.09375, 5.125]\n",
      "6 : [5.09375, 5.109375]\n",
      "7 : [5.09375, 5.1015625]\n",
      "8 : [5.09765625, 5.1015625]\n",
      "9 : [5.09765625, 5.099609375]\n",
      "10 : [5.0986328125, 5.099609375]\n"
     ]
    }
   ],
   "source": [
    "a=5\n",
    "b=6\n",
    "for i in range(1,11):\n",
    "    if f((a+b)/2) < 26 :\n",
    "        a=(a+b)/2\n",
    "        print(i,\":\" ,[a,b])\n",
    "    else:\n",
    "        b=(a+b)/2\n",
    "        print(i,\":\" ,[a,b])"
   ]
  },
  {
   "cell_type": "code",
   "execution_count": null,
   "metadata": {
    "collapsed": true
   },
   "outputs": [],
   "source": []
  }
 ],
 "metadata": {
  "kernelspec": {
   "display_name": "Python 3",
   "language": "python",
   "name": "python3"
  },
  "language_info": {
   "codemirror_mode": {
    "name": "ipython",
    "version": 3
   },
   "file_extension": ".py",
   "mimetype": "text/x-python",
   "name": "python",
   "nbconvert_exporter": "python",
   "pygments_lexer": "ipython3",
   "version": "3.6.0"
  }
 },
 "nbformat": 4,
 "nbformat_minor": 2
}
