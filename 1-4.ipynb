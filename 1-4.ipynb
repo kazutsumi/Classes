{
 "cells": [
  {
   "cell_type": "code",
   "execution_count": 1,
   "metadata": {
    "collapsed": false
   },
   "outputs": [
    {
     "name": "stdout",
     "output_type": "stream",
     "text": [
      "Enter first fraction: 3/4\n",
      "Enter second fraction: 1/4\n",
      "Result of Addition: 3/4+1/4=1\n"
     ]
    }
   ],
   "source": [
    "'''\n",
    "fractions_operations.py\n",
    "\n",
    "Fraction operations\n",
    "'''\n",
    "\n",
    "from fractions import Fraction\n",
    "\n",
    "def add(a, b):\n",
    "    print('Result of Addition: {0}+{1}={2}'.format(a,b,a+b))\n",
    "    \n",
    "if __name__ == '__main__':\n",
    "    a = Fraction(input('Enter first fraction: '))\n",
    "    b = Fraction(input('Enter second fraction: '))\n",
    "    add(a, b)"
   ]
  },
  {
   "cell_type": "code",
   "execution_count": null,
   "metadata": {
    "collapsed": true
   },
   "outputs": [],
   "source": []
  }
 ],
 "metadata": {
  "kernelspec": {
   "display_name": "Python 3",
   "language": "python",
   "name": "python3"
  },
  "language_info": {
   "codemirror_mode": {
    "name": "ipython",
    "version": 3
   },
   "file_extension": ".py",
   "mimetype": "text/x-python",
   "name": "python",
   "nbconvert_exporter": "python",
   "pygments_lexer": "ipython3",
   "version": "3.6.0"
  }
 },
 "nbformat": 4,
 "nbformat_minor": 2
}
